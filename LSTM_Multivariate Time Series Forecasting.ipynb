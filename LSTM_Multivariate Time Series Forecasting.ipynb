{
 "cells": [
  {
   "cell_type": "code",
   "execution_count": 26,
   "id": "7c8b4092",
   "metadata": {},
   "outputs": [],
   "source": [
    "# Let`s import all packages that we may need:\n",
    "\n",
    "import sys \n",
    "import numpy as np # linear algebra\n",
    "from numpy import concatenate\n",
    "from scipy.stats import randint\n",
    "from datetime import datetime\n",
    "import pandas as pd # data processing, CSV file I/O (e.g. pd.read_csv), data manipulation as in SQL\n",
    "from matplotlib import pyplot # this is used for the plot the graph \n",
    "import seaborn as sns # used for plot interactive graph. \n",
    "from sklearn.model_selection import train_test_split # to split the data into two parts\n",
    "from sklearn.model_selection import KFold # use for cross validation\n",
    "from sklearn.preprocessing import StandardScaler # for normalization\n",
    "from sklearn.preprocessing import MinMaxScaler\n",
    "from sklearn.pipeline import Pipeline # pipeline making\n",
    "from sklearn.model_selection import cross_val_score\n",
    "from sklearn.feature_selection import SelectFromModel\n",
    "from sklearn import metrics # for the check the error and accuracy of the model\n",
    "from sklearn.metrics import mean_squared_error,r2_score\n",
    "import warnings\n",
    "warnings.filterwarnings(\"ignore\", message=\"numpy.dtype size changed\")\n",
    "warnings.filterwarnings(\"ignore\", message=\"numpy.ufunc size changed\")\n",
    "\n",
    "## for Deep-learing:\n",
    "import keras\n",
    "from keras.layers import Dense\n",
    "from keras.models import Sequential\n",
    "from tensorflow.keras.utils import to_categorical\n",
    "from tensorflow.keras.optimizers import SGD \n",
    "from keras.callbacks import EarlyStopping\n",
    "from keras.utils import np_utils\n",
    "import itertools\n",
    "from keras.layers import LSTM\n",
    "from keras.layers.convolutional import Conv1D\n",
    "from keras.layers.convolutional import MaxPooling1D\n",
    "from keras.layers import Dropout"
   ]
  },
  {
   "cell_type": "code",
   "execution_count": 5,
   "id": "7f5fe382",
   "metadata": {},
   "outputs": [
    {
     "name": "stdout",
     "output_type": "stream",
     "text": [
      "                     BikeCount  Temperature  Humidity  WindSpeed  Visibility  \\\n",
      "Datetime                                                                       \n",
      "2017-12-01 00:00:00        254         -5.2        37        2.2        2000   \n",
      "2017-12-01 01:00:00        204         -5.5        38        0.8        2000   \n",
      "2017-12-01 02:00:00        173         -6.0        39        1.0        2000   \n",
      "2017-12-01 03:00:00        107         -6.2        40        0.9        2000   \n",
      "2017-12-01 04:00:00         78         -6.0        36        2.3        2000   \n",
      "\n",
      "                     Dewpoint  SolarRadiation  Rainfall  Snowfall Seasons  \\\n",
      "Datetime                                                                    \n",
      "2017-12-01 00:00:00     -17.6             0.0       0.0       0.0  Winter   \n",
      "2017-12-01 01:00:00     -17.6             0.0       0.0       0.0  Winter   \n",
      "2017-12-01 02:00:00     -17.7             0.0       0.0       0.0  Winter   \n",
      "2017-12-01 03:00:00     -17.6             0.0       0.0       0.0  Winter   \n",
      "2017-12-01 04:00:00     -18.6             0.0       0.0       0.0  Winter   \n",
      "\n",
      "                        Holiday FunctionalDay  \n",
      "Datetime                                       \n",
      "2017-12-01 00:00:00  No Holiday           Yes  \n",
      "2017-12-01 01:00:00  No Holiday           Yes  \n",
      "2017-12-01 02:00:00  No Holiday           Yes  \n",
      "2017-12-01 03:00:00  No Holiday           Yes  \n",
      "2017-12-01 04:00:00  No Holiday           Yes  \n"
     ]
    }
   ],
   "source": [
    "# load data\n",
    "def parse(x):\n",
    "    return datetime.strptime(x, '%d/%m/%Y %H')\n",
    "bike = pd.read_csv(\"SeoulBikeData.csv\", encoding =\"unicode_escape\",\n",
    "                 parse_dates = [['Date', 'Hour']], \n",
    "                 index_col = 0, date_parser = parse)\n",
    "# manually specify column names\n",
    "bike.columns = [\"BikeCount\",\n",
    "                \"Temperature\", \"Humidity\",\n",
    "                \"WindSpeed\", \"Visibility\",\n",
    "                \"Dewpoint\", \"SolarRadiation\",\n",
    "                \"Rainfall\", \"Snowfall\",\n",
    "                \"Seasons\", \"Holiday\", \"FunctionalDay\"]\n",
    "bike.index.name = \"Datetime\"\n",
    "print(bike.head())\n",
    "# save to file\n",
    "bike.to_csv('SeoulBikeData2.csv')"
   ]
  },
  {
   "cell_type": "markdown",
   "id": "d54f0570",
   "metadata": {},
   "source": [
    "# Multivariate LSTM Forecast Model\n",
    "## LSTM Data Preparation:\n",
    "1. We will frame the supervised learning problem as predicting the bike demand at the current hour (t) given the bike demand and weather conditions at the prior time step.\n",
    "2. Normalize the input variables\n",
    "\n"
   ]
  },
  {
   "cell_type": "code",
   "execution_count": 6,
   "id": "0f72793f",
   "metadata": {},
   "outputs": [],
   "source": [
    "# convert series to supervised learning\n",
    "def series_to_supervised(data, n_in=1, n_out=1, dropnan=True):\n",
    "    n_vars = 1 if type(data) is list else data.shape[1]\n",
    "    df = DataFrame(data)\n",
    "    cols, names = list(), list()\n",
    "    # input sequence (t-n, ... t-1)\n",
    "    for i in range(n_in, 0, -1):\n",
    "        cols.append(df.shift(i))\n",
    "        names += [('var%d(t-%d)' % (j+1, i)) for j in range(n_vars)]\n",
    "    # forecast sequence (t, t+1, ... t+n)\n",
    "    for i in range(0, n_out):\n",
    "        cols.append(df.shift(-i))\n",
    "        if i == 0:\n",
    "            names += [('var%d(t)' % (j+1)) for j in range(n_vars)]\n",
    "        else:\n",
    "            names += [('var%d(t+%d)' % (j+1, i)) for j in range(n_vars)]\n",
    "    # put it all together\n",
    "    agg = concat(cols, axis=1)\n",
    "    agg.columns = names\n",
    "    # drop rows with NaN values\n",
    "    if dropnan:\n",
    "        agg.dropna(inplace=True)\n",
    "    return agg"
   ]
  },
  {
   "cell_type": "markdown",
   "id": "36bb1555",
   "metadata": {},
   "source": [
    "We can see the 12 input variables (input series) and the 1 output variable (bike demand at the current hour).\n",
    "\n",
    "Some to-do:\n",
    "* One-hot encoding categorical variables.\n",
    "* Making all series stationary with differencing and seasonal adjustment.\n",
    "* Providing more than 1 hour of input time steps."
   ]
  },
  {
   "cell_type": "code",
   "execution_count": 18,
   "id": "5ca663b2",
   "metadata": {},
   "outputs": [
    {
     "name": "stdout",
     "output_type": "stream",
     "text": [
      "   var1(t-1)  var2(t-1)  var3(t-1)  var4(t-1)  var5(t-1)  var6(t-1)  \\\n",
      "1   0.071429   0.220280   0.377551   0.297297        1.0   0.224914   \n",
      "2   0.057368   0.215035   0.387755   0.108108        1.0   0.224914   \n",
      "3   0.048650   0.206294   0.397959   0.135135        1.0   0.223183   \n",
      "4   0.030090   0.202797   0.408163   0.121622        1.0   0.224914   \n",
      "5   0.021935   0.206294   0.367347   0.310811        1.0   0.207612   \n",
      "\n",
      "   var7(t-1)  var8(t-1)  var9(t-1)  var10(t-1)  var11(t-1)  var12(t-1)  \\\n",
      "1        0.0        0.0        0.0         1.0         1.0         1.0   \n",
      "2        0.0        0.0        0.0         1.0         1.0         1.0   \n",
      "3        0.0        0.0        0.0         1.0         1.0         1.0   \n",
      "4        0.0        0.0        0.0         1.0         1.0         1.0   \n",
      "5        0.0        0.0        0.0         1.0         1.0         1.0   \n",
      "\n",
      "    var1(t)  \n",
      "1  0.057368  \n",
      "2  0.048650  \n",
      "3  0.030090  \n",
      "4  0.021935  \n",
      "5  0.028121  \n"
     ]
    }
   ],
   "source": [
    "# prepare data for lstm\n",
    "from pandas import read_csv\n",
    "from pandas import DataFrame\n",
    "from pandas import concat\n",
    "from sklearn.preprocessing import LabelEncoder\n",
    "from sklearn.preprocessing import MinMaxScaler\n",
    "\n",
    "# load dataset\n",
    "dataset = read_csv('SeoulBikeData2.csv', header=0, index_col=0)\n",
    "values = dataset.values\n",
    "# integer encode direction\n",
    "# LabelEncoder() only takes a 1-d array as an argument ,may be a better way the encode\n",
    "encoder = LabelEncoder()\n",
    "values[:,9] = encoder.fit_transform(values[:,9])\n",
    "values[:,10] = encoder.fit_transform(values[:,10])\n",
    "values[:,11] = encoder.fit_transform(values[:,11])\n",
    "# ensure all data is float\n",
    "values = values.astype('float32')\n",
    "# normalize features\n",
    "scaler = MinMaxScaler(feature_range=(0, 1))\n",
    "scaled = scaler.fit_transform(values)\n",
    "# frame as supervised learning\n",
    "reframed = series_to_supervised(scaled, 1, 1)\n",
    "# drop columns we don't want to predict\n",
    "reframed.drop(reframed.columns[[13,14,15,16,17,18,19,20,21,22,23]], axis=1, inplace=True)\n",
    "print(reframed.head())"
   ]
  },
  {
   "cell_type": "markdown",
   "id": "5a7b381c",
   "metadata": {},
   "source": [
    "## Define and Fit Model"
   ]
  },
  {
   "cell_type": "code",
   "execution_count": 41,
   "id": "534a122d",
   "metadata": {},
   "outputs": [
    {
     "name": "stdout",
     "output_type": "stream",
     "text": [
      "(7571, 1, 12) (7571,) (1188, 1, 12) (1188,)\n"
     ]
    }
   ],
   "source": [
    "# split into train and test sets\n",
    "values = reframed.values\n",
    "days_for_cv = 50\n",
    "N = sum(1 for row in bike)\n",
    "n_train_hours = (N - days_for_cv * 24 )\n",
    "train = values[:n_train_hours, :]\n",
    "test = values[n_train_hours:, :]\n",
    "# split into input and outputs\n",
    "train_X, train_y = train[:, :-1], train[:, -1]\n",
    "test_X, test_y = test[:, :-1], test[:, -1]\n",
    "# reshape input to be 3D [samples, timesteps, features]\n",
    "train_X = train_X.reshape((train_X.shape[0], 1, train_X.shape[1]))\n",
    "test_X = test_X.reshape((test_X.shape[0], 1, test_X.shape[1]))\n",
    "print(train_X.shape, train_y.shape, test_X.shape, test_y.shape)"
   ]
  },
  {
   "cell_type": "markdown",
   "id": "e40bd80a",
   "metadata": {},
   "source": [
    "### Model architecture\n",
    "1) LSTM with 50 neurons in the first visible layer\n",
    "\n",
    "2) dropout 20% >>>> not sure yet\n",
    "\n",
    "3) 1 neuron in the output layer for predicting Bike Demand.\n",
    "\n",
    "4) The input shape will be 1 time step with 12 features.\n",
    "\n",
    "5) I use the Mean Absolute Error (MAE) loss function and the efficient Adam version of stochastic gradient descent.\n",
    "\n",
    "6) The model will be fit for 20 training epochs with a batch size of 70."
   ]
  },
  {
   "cell_type": "code",
   "execution_count": 42,
   "id": "1ff3b60b",
   "metadata": {},
   "outputs": [
    {
     "name": "stdout",
     "output_type": "stream",
     "text": [
      "Epoch 1/50\n",
      "106/106 - 2s - loss: 0.0938 - val_loss: 0.0775 - 2s/epoch - 23ms/step\n",
      "Epoch 2/50\n",
      "106/106 - 0s - loss: 0.0715 - val_loss: 0.0561 - 206ms/epoch - 2ms/step\n",
      "Epoch 3/50\n",
      "106/106 - 0s - loss: 0.0488 - val_loss: 0.0501 - 201ms/epoch - 2ms/step\n",
      "Epoch 4/50\n",
      "106/106 - 0s - loss: 0.0456 - val_loss: 0.0495 - 218ms/epoch - 2ms/step\n",
      "Epoch 5/50\n",
      "106/106 - 0s - loss: 0.0448 - val_loss: 0.0494 - 219ms/epoch - 2ms/step\n",
      "Epoch 6/50\n",
      "106/106 - 0s - loss: 0.0442 - val_loss: 0.0495 - 209ms/epoch - 2ms/step\n",
      "Epoch 7/50\n",
      "106/106 - 0s - loss: 0.0438 - val_loss: 0.0505 - 219ms/epoch - 2ms/step\n",
      "Epoch 8/50\n",
      "106/106 - 0s - loss: 0.0436 - val_loss: 0.0498 - 232ms/epoch - 2ms/step\n",
      "Epoch 9/50\n",
      "106/106 - 0s - loss: 0.0437 - val_loss: 0.0505 - 261ms/epoch - 2ms/step\n",
      "Epoch 10/50\n",
      "106/106 - 0s - loss: 0.0433 - val_loss: 0.0503 - 204ms/epoch - 2ms/step\n",
      "Epoch 11/50\n",
      "106/106 - 0s - loss: 0.0431 - val_loss: 0.0510 - 207ms/epoch - 2ms/step\n",
      "Epoch 12/50\n",
      "106/106 - 0s - loss: 0.0430 - val_loss: 0.0510 - 220ms/epoch - 2ms/step\n",
      "Epoch 13/50\n",
      "106/106 - 0s - loss: 0.0429 - val_loss: 0.0510 - 204ms/epoch - 2ms/step\n",
      "Epoch 14/50\n",
      "106/106 - 0s - loss: 0.0428 - val_loss: 0.0501 - 222ms/epoch - 2ms/step\n",
      "Epoch 15/50\n",
      "106/106 - 0s - loss: 0.0427 - val_loss: 0.0511 - 204ms/epoch - 2ms/step\n",
      "Epoch 16/50\n",
      "106/106 - 0s - loss: 0.0428 - val_loss: 0.0506 - 207ms/epoch - 2ms/step\n",
      "Epoch 17/50\n",
      "106/106 - 0s - loss: 0.0426 - val_loss: 0.0503 - 204ms/epoch - 2ms/step\n",
      "Epoch 18/50\n",
      "106/106 - 0s - loss: 0.0427 - val_loss: 0.0495 - 200ms/epoch - 2ms/step\n",
      "Epoch 19/50\n",
      "106/106 - 0s - loss: 0.0425 - val_loss: 0.0489 - 204ms/epoch - 2ms/step\n",
      "Epoch 20/50\n",
      "106/106 - 0s - loss: 0.0424 - val_loss: 0.0514 - 275ms/epoch - 3ms/step\n",
      "Epoch 21/50\n",
      "106/106 - 0s - loss: 0.0434 - val_loss: 0.0526 - 274ms/epoch - 3ms/step\n",
      "Epoch 22/50\n",
      "106/106 - 0s - loss: 0.0423 - val_loss: 0.0504 - 290ms/epoch - 3ms/step\n",
      "Epoch 23/50\n",
      "106/106 - 0s - loss: 0.0422 - val_loss: 0.0504 - 255ms/epoch - 2ms/step\n",
      "Epoch 24/50\n",
      "106/106 - 0s - loss: 0.0421 - val_loss: 0.0515 - 205ms/epoch - 2ms/step\n",
      "Epoch 25/50\n",
      "106/106 - 0s - loss: 0.0421 - val_loss: 0.0501 - 203ms/epoch - 2ms/step\n",
      "Epoch 26/50\n",
      "106/106 - 0s - loss: 0.0421 - val_loss: 0.0518 - 219ms/epoch - 2ms/step\n",
      "Epoch 27/50\n",
      "106/106 - 0s - loss: 0.0420 - val_loss: 0.0493 - 206ms/epoch - 2ms/step\n",
      "Epoch 28/50\n",
      "106/106 - 0s - loss: 0.0420 - val_loss: 0.0504 - 207ms/epoch - 2ms/step\n",
      "Epoch 29/50\n",
      "106/106 - 0s - loss: 0.0419 - val_loss: 0.0509 - 199ms/epoch - 2ms/step\n",
      "Epoch 30/50\n",
      "106/106 - 0s - loss: 0.0420 - val_loss: 0.0504 - 252ms/epoch - 2ms/step\n",
      "Epoch 31/50\n",
      "106/106 - 0s - loss: 0.0420 - val_loss: 0.0509 - 267ms/epoch - 3ms/step\n",
      "Epoch 32/50\n",
      "106/106 - 0s - loss: 0.0419 - val_loss: 0.0508 - 278ms/epoch - 3ms/step\n",
      "Epoch 33/50\n",
      "106/106 - 0s - loss: 0.0419 - val_loss: 0.0503 - 240ms/epoch - 2ms/step\n",
      "Epoch 34/50\n",
      "106/106 - 0s - loss: 0.0419 - val_loss: 0.0505 - 276ms/epoch - 3ms/step\n",
      "Epoch 35/50\n",
      "106/106 - 0s - loss: 0.0418 - val_loss: 0.0500 - 276ms/epoch - 3ms/step\n",
      "Epoch 36/50\n",
      "106/106 - 0s - loss: 0.0418 - val_loss: 0.0491 - 210ms/epoch - 2ms/step\n",
      "Epoch 37/50\n",
      "106/106 - 0s - loss: 0.0416 - val_loss: 0.0489 - 200ms/epoch - 2ms/step\n",
      "Epoch 38/50\n",
      "106/106 - 0s - loss: 0.0416 - val_loss: 0.0496 - 212ms/epoch - 2ms/step\n",
      "Epoch 39/50\n",
      "106/106 - 0s - loss: 0.0416 - val_loss: 0.0492 - 211ms/epoch - 2ms/step\n",
      "Epoch 40/50\n",
      "106/106 - 0s - loss: 0.0416 - val_loss: 0.0489 - 207ms/epoch - 2ms/step\n",
      "Epoch 41/50\n",
      "106/106 - 0s - loss: 0.0416 - val_loss: 0.0492 - 202ms/epoch - 2ms/step\n",
      "Epoch 42/50\n",
      "106/106 - 0s - loss: 0.0415 - val_loss: 0.0487 - 209ms/epoch - 2ms/step\n",
      "Epoch 43/50\n",
      "106/106 - 0s - loss: 0.0415 - val_loss: 0.0493 - 215ms/epoch - 2ms/step\n",
      "Epoch 44/50\n",
      "106/106 - 0s - loss: 0.0416 - val_loss: 0.0494 - 204ms/epoch - 2ms/step\n",
      "Epoch 45/50\n",
      "106/106 - 0s - loss: 0.0417 - val_loss: 0.0489 - 199ms/epoch - 2ms/step\n",
      "Epoch 46/50\n",
      "106/106 - 0s - loss: 0.0415 - val_loss: 0.0491 - 206ms/epoch - 2ms/step\n",
      "Epoch 47/50\n",
      "106/106 - 0s - loss: 0.0417 - val_loss: 0.0497 - 203ms/epoch - 2ms/step\n",
      "Epoch 48/50\n",
      "106/106 - 0s - loss: 0.0415 - val_loss: 0.0491 - 199ms/epoch - 2ms/step\n",
      "Epoch 49/50\n",
      "106/106 - 0s - loss: 0.0419 - val_loss: 0.0481 - 272ms/epoch - 3ms/step\n",
      "Epoch 50/50\n",
      "106/106 - 0s - loss: 0.0417 - val_loss: 0.0484 - 226ms/epoch - 2ms/step\n"
     ]
    },
    {
     "data": {
      "image/png": "[encoded data removed]",
      "text/plain": [
       "<Figure size 432x288 with 1 Axes>"
      ]
     },
     "metadata": {
      "needs_background": "light"
     },
     "output_type": "display_data"
    }
   ],
   "source": [
    "# design network\n",
    "model = Sequential()\n",
    "model.add(LSTM(50, input_shape=(train_X.shape[1], train_X.shape[2])))\n",
    "model.add(Dense(1))\n",
    "model.compile(loss='mae', optimizer='adam')\n",
    "# fit network\n",
    "history = model.fit(train_X, train_y, epochs=50, batch_size=72, validation_data=(test_X, test_y), verbose=2, shuffle=False)\n",
    "# summarize history for loss\n",
    "pyplot.plot(history.history['loss'], label='train')\n",
    "pyplot.plot(history.history['val_loss'], label='test')\n",
    "pyplot.title('model loss')\n",
    "pyplot.ylabel('loss')\n",
    "pyplot.xlabel('epoch')\n",
    "pyplot.legend()\n",
    "pyplot.show()"
   ]
  },
  {
   "cell_type": "code",
   "execution_count": 44,
   "id": "d628bde9",
   "metadata": {},
   "outputs": [
    {
     "name": "stdout",
     "output_type": "stream",
     "text": [
      "Test RMSE: 293.297\n"
     ]
    }
   ],
   "source": [
    "# make a prediction\n",
    "yhat = model.predict(test_X)\n",
    "test_X = test_X.reshape((test_X.shape[0], test_X.shape[2]))\n",
    "# invert scaling for forecast\n",
    "inv_yhat = concatenate((yhat, test_X[:, 1:]), axis=1)\n",
    "inv_yhat = scaler.inverse_transform(inv_yhat)\n",
    "inv_yhat = inv_yhat[:,0]\n",
    "# invert scaling for actual\n",
    "test_y = test_y.reshape((len(test_y), 1))\n",
    "inv_y = concatenate((test_y, test_X[:, 1:]), axis=1)\n",
    "inv_y = scaler.inverse_transform(inv_y)\n",
    "inv_y = inv_y[:,0]\n",
    "# calculate RMSE\n",
    "rmse = np.sqrt(mean_squared_error(inv_y, inv_yhat))\n",
    "print('Test RMSE: %.3f' % rmse)"
   ]
  },
  {
   "cell_type": "code",
   "execution_count": null,
   "id": "afdefe57",
   "metadata": {},
   "outputs": [],
   "source": []
  }
 ],
 "metadata": {
  "kernelspec": {
   "display_name": "Python 3 (ipykernel)",
   "language": "python",
   "name": "python3"
  },
  "language_info": {
   "codemirror_mode": {
    "name": "ipython",
    "version": 3
   },
   "file_extension": ".py",
   "mimetype": "text/x-python",
   "name": "python",
   "nbconvert_exporter": "python",
   "pygments_lexer": "ipython3",
   "version": "3.9.7"
  }
 },
 "nbformat": 4,
 "nbformat_minor": 5
}
